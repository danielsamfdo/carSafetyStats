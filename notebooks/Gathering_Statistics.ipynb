{
 "cells": [
  {
   "cell_type": "code",
   "execution_count": 24,
   "metadata": {
    "collapsed": true
   },
   "outputs": [],
   "source": [
    "import pandas as pd\n",
    "%matplotlib inline\n",
    "\n",
    "import matplotlib\n",
    "import numpy as np\n",
    "import matplotlib.pyplot as plt"
   ]
  },
  {
   "cell_type": "code",
   "execution_count": 91,
   "metadata": {
    "collapsed": false
   },
   "outputs": [],
   "source": [
    "\n",
    "df = pd.read_csv('../datasets/FARS_2016.txt',sep='\\t')\n",
    "df.rename(columns = {'statenum':'state_definitions', 'vnumber':'vehicle_number', 'pnumber':'hyperlink', 'atmcond':'atmospheric_condition_1', 'atmcond2':'atmospheric_condition_2', 'arf1':'crash_related_factor_1', 'arf2':'crash_related_factor_2', 'arf3':'crash_related_factor_3', 'fhevent':'First_Harmful_Event', 'prf1': 'person_related_factor_1','prf2': 'person_related_factor_2','prf3': 'person_related_factor_3', 'ptype': 'person_type', 'druginv':'police_Related_drug_involvement', 'mhevent':'most_harmful_event', 'vfatcount': 'number_of_fatalities_in_vehicle', 'drf1':'driver_Related_Factor_1', 'drf2':'driver_Related_Factor_2', 'drf3':'driver_Related_Factor_3', 'drf4':'driver_Related_Factor_4'}, inplace=True)\n",
    "# df = df.filter()\n",
    "df = df[df['person_type'] == 1]"
   ]
  },
  {
   "cell_type": "code",
   "execution_count": 92,
   "metadata": {
    "collapsed": false
   },
   "outputs": [
    {
     "data": {
      "text/html": [
       "<div>\n",
       "<style>\n",
       "    .dataframe thead tr:only-child th {\n",
       "        text-align: right;\n",
       "    }\n",
       "\n",
       "    .dataframe thead th {\n",
       "        text-align: left;\n",
       "    }\n",
       "\n",
       "    .dataframe tbody tr th {\n",
       "        vertical-align: top;\n",
       "    }\n",
       "</style>\n",
       "<table border=\"1\" class=\"dataframe\">\n",
       "  <thead>\n",
       "    <tr style=\"text-align: right;\">\n",
       "      <th></th>\n",
       "      <th>state_definitions</th>\n",
       "      <th>casenum</th>\n",
       "      <th>vehicle_number</th>\n",
       "      <th>hyperlink</th>\n",
       "      <th>crash_related_factor_1</th>\n",
       "      <th>crash_related_factor_2</th>\n",
       "      <th>crash_related_factor_3</th>\n",
       "      <th>dayofweek</th>\n",
       "      <th>driverdrowsy</th>\n",
       "      <th>First_Harmful_Event</th>\n",
       "      <th>...</th>\n",
       "      <th>seatpos</th>\n",
       "      <th>sex</th>\n",
       "      <th>number_of_fatalities_in_vehicle</th>\n",
       "      <th>numoccs</th>\n",
       "      <th>malcohol</th>\n",
       "      <th>drivpres</th>\n",
       "      <th>crashtype</th>\n",
       "      <th>criticaleventcat</th>\n",
       "      <th>criticalevent</th>\n",
       "      <th>trafflow</th>\n",
       "    </tr>\n",
       "  </thead>\n",
       "  <tbody>\n",
       "    <tr>\n",
       "      <th>count</th>\n",
       "      <td>51914.000000</td>\n",
       "      <td>51914.000000</td>\n",
       "      <td>51914.000000</td>\n",
       "      <td>51914.000000</td>\n",
       "      <td>51914.000000</td>\n",
       "      <td>51914.000000</td>\n",
       "      <td>51914.000000</td>\n",
       "      <td>51914.000000</td>\n",
       "      <td>51914.0</td>\n",
       "      <td>51914.000000</td>\n",
       "      <td>...</td>\n",
       "      <td>51914.000000</td>\n",
       "      <td>51914.000000</td>\n",
       "      <td>51914.000000</td>\n",
       "      <td>51914.000000</td>\n",
       "      <td>51914.000000</td>\n",
       "      <td>51914.0</td>\n",
       "      <td>51914.000000</td>\n",
       "      <td>51914.000000</td>\n",
       "      <td>51914.000000</td>\n",
       "      <td>51914.000000</td>\n",
       "    </tr>\n",
       "    <tr>\n",
       "      <th>mean</th>\n",
       "      <td>27.088685</td>\n",
       "      <td>765.807354</td>\n",
       "      <td>1.475922</td>\n",
       "      <td>1.000751</td>\n",
       "      <td>1.809300</td>\n",
       "      <td>0.623724</td>\n",
       "      <td>0.453924</td>\n",
       "      <td>4.152387</td>\n",
       "      <td>0.0</td>\n",
       "      <td>16.107100</td>\n",
       "      <td>...</td>\n",
       "      <td>11.003467</td>\n",
       "      <td>1.419367</td>\n",
       "      <td>0.583292</td>\n",
       "      <td>2.068922</td>\n",
       "      <td>0.172766</td>\n",
       "      <td>1.0</td>\n",
       "      <td>44.903475</td>\n",
       "      <td>3.074989</td>\n",
       "      <td>41.308009</td>\n",
       "      <td>1.872674</td>\n",
       "    </tr>\n",
       "    <tr>\n",
       "      <th>std</th>\n",
       "      <td>16.302327</td>\n",
       "      <td>818.841941</td>\n",
       "      <td>1.472786</td>\n",
       "      <td>0.037492</td>\n",
       "      <td>8.132951</td>\n",
       "      <td>6.859698</td>\n",
       "      <td>6.597659</td>\n",
       "      <td>2.061016</td>\n",
       "      <td>0.0</td>\n",
       "      <td>12.160717</td>\n",
       "      <td>...</td>\n",
       "      <td>0.543264</td>\n",
       "      <td>1.174021</td>\n",
       "      <td>0.590546</td>\n",
       "      <td>7.486464</td>\n",
       "      <td>0.378049</td>\n",
       "      <td>0.0</td>\n",
       "      <td>35.560365</td>\n",
       "      <td>1.437860</td>\n",
       "      <td>28.957103</td>\n",
       "      <td>1.310812</td>\n",
       "    </tr>\n",
       "    <tr>\n",
       "      <th>min</th>\n",
       "      <td>1.000000</td>\n",
       "      <td>1.000000</td>\n",
       "      <td>1.000000</td>\n",
       "      <td>1.000000</td>\n",
       "      <td>0.000000</td>\n",
       "      <td>0.000000</td>\n",
       "      <td>0.000000</td>\n",
       "      <td>1.000000</td>\n",
       "      <td>0.0</td>\n",
       "      <td>1.000000</td>\n",
       "      <td>...</td>\n",
       "      <td>11.000000</td>\n",
       "      <td>1.000000</td>\n",
       "      <td>0.000000</td>\n",
       "      <td>1.000000</td>\n",
       "      <td>0.000000</td>\n",
       "      <td>1.0</td>\n",
       "      <td>0.000000</td>\n",
       "      <td>1.000000</td>\n",
       "      <td>1.000000</td>\n",
       "      <td>0.000000</td>\n",
       "    </tr>\n",
       "    <tr>\n",
       "      <th>25%</th>\n",
       "      <td>12.000000</td>\n",
       "      <td>200.000000</td>\n",
       "      <td>1.000000</td>\n",
       "      <td>1.000000</td>\n",
       "      <td>0.000000</td>\n",
       "      <td>0.000000</td>\n",
       "      <td>0.000000</td>\n",
       "      <td>2.000000</td>\n",
       "      <td>0.0</td>\n",
       "      <td>12.000000</td>\n",
       "      <td>...</td>\n",
       "      <td>11.000000</td>\n",
       "      <td>1.000000</td>\n",
       "      <td>0.000000</td>\n",
       "      <td>1.000000</td>\n",
       "      <td>0.000000</td>\n",
       "      <td>1.0</td>\n",
       "      <td>13.000000</td>\n",
       "      <td>2.000000</td>\n",
       "      <td>13.000000</td>\n",
       "      <td>1.000000</td>\n",
       "    </tr>\n",
       "    <tr>\n",
       "      <th>50%</th>\n",
       "      <td>26.000000</td>\n",
       "      <td>470.000000</td>\n",
       "      <td>1.000000</td>\n",
       "      <td>1.000000</td>\n",
       "      <td>0.000000</td>\n",
       "      <td>0.000000</td>\n",
       "      <td>0.000000</td>\n",
       "      <td>4.000000</td>\n",
       "      <td>0.0</td>\n",
       "      <td>12.000000</td>\n",
       "      <td>...</td>\n",
       "      <td>11.000000</td>\n",
       "      <td>1.000000</td>\n",
       "      <td>1.000000</td>\n",
       "      <td>1.000000</td>\n",
       "      <td>0.000000</td>\n",
       "      <td>1.0</td>\n",
       "      <td>50.000000</td>\n",
       "      <td>3.000000</td>\n",
       "      <td>51.000000</td>\n",
       "      <td>1.000000</td>\n",
       "    </tr>\n",
       "    <tr>\n",
       "      <th>75%</th>\n",
       "      <td>42.000000</td>\n",
       "      <td>939.000000</td>\n",
       "      <td>2.000000</td>\n",
       "      <td>1.000000</td>\n",
       "      <td>0.000000</td>\n",
       "      <td>0.000000</td>\n",
       "      <td>0.000000</td>\n",
       "      <td>6.000000</td>\n",
       "      <td>0.0</td>\n",
       "      <td>12.000000</td>\n",
       "      <td>...</td>\n",
       "      <td>11.000000</td>\n",
       "      <td>2.000000</td>\n",
       "      <td>1.000000</td>\n",
       "      <td>2.000000</td>\n",
       "      <td>0.000000</td>\n",
       "      <td>1.0</td>\n",
       "      <td>82.000000</td>\n",
       "      <td>4.000000</td>\n",
       "      <td>62.000000</td>\n",
       "      <td>3.000000</td>\n",
       "    </tr>\n",
       "    <tr>\n",
       "      <th>max</th>\n",
       "      <td>56.000000</td>\n",
       "      <td>3503.000000</td>\n",
       "      <td>64.000000</td>\n",
       "      <td>5.000000</td>\n",
       "      <td>99.000000</td>\n",
       "      <td>99.000000</td>\n",
       "      <td>99.000000</td>\n",
       "      <td>7.000000</td>\n",
       "      <td>0.0</td>\n",
       "      <td>99.000000</td>\n",
       "      <td>...</td>\n",
       "      <td>99.000000</td>\n",
       "      <td>9.000000</td>\n",
       "      <td>9.000000</td>\n",
       "      <td>99.000000</td>\n",
       "      <td>1.000000</td>\n",
       "      <td>1.0</td>\n",
       "      <td>99.000000</td>\n",
       "      <td>9.000000</td>\n",
       "      <td>99.000000</td>\n",
       "      <td>9.000000</td>\n",
       "    </tr>\n",
       "  </tbody>\n",
       "</table>\n",
       "<p>8 rows × 22 columns</p>\n",
       "</div>"
      ],
      "text/plain": [
       "       state_definitions       casenum  vehicle_number     hyperlink  \\\n",
       "count       51914.000000  51914.000000    51914.000000  51914.000000   \n",
       "mean           27.088685    765.807354        1.475922      1.000751   \n",
       "std            16.302327    818.841941        1.472786      0.037492   \n",
       "min             1.000000      1.000000        1.000000      1.000000   \n",
       "25%            12.000000    200.000000        1.000000      1.000000   \n",
       "50%            26.000000    470.000000        1.000000      1.000000   \n",
       "75%            42.000000    939.000000        2.000000      1.000000   \n",
       "max            56.000000   3503.000000       64.000000      5.000000   \n",
       "\n",
       "       crash_related_factor_1  crash_related_factor_2  crash_related_factor_3  \\\n",
       "count            51914.000000            51914.000000            51914.000000   \n",
       "mean                 1.809300                0.623724                0.453924   \n",
       "std                  8.132951                6.859698                6.597659   \n",
       "min                  0.000000                0.000000                0.000000   \n",
       "25%                  0.000000                0.000000                0.000000   \n",
       "50%                  0.000000                0.000000                0.000000   \n",
       "75%                  0.000000                0.000000                0.000000   \n",
       "max                 99.000000               99.000000               99.000000   \n",
       "\n",
       "          dayofweek  driverdrowsy  First_Harmful_Event      ...       \\\n",
       "count  51914.000000       51914.0         51914.000000      ...        \n",
       "mean       4.152387           0.0            16.107100      ...        \n",
       "std        2.061016           0.0            12.160717      ...        \n",
       "min        1.000000           0.0             1.000000      ...        \n",
       "25%        2.000000           0.0            12.000000      ...        \n",
       "50%        4.000000           0.0            12.000000      ...        \n",
       "75%        6.000000           0.0            12.000000      ...        \n",
       "max        7.000000           0.0            99.000000      ...        \n",
       "\n",
       "            seatpos           sex  number_of_fatalities_in_vehicle  \\\n",
       "count  51914.000000  51914.000000                     51914.000000   \n",
       "mean      11.003467      1.419367                         0.583292   \n",
       "std        0.543264      1.174021                         0.590546   \n",
       "min       11.000000      1.000000                         0.000000   \n",
       "25%       11.000000      1.000000                         0.000000   \n",
       "50%       11.000000      1.000000                         1.000000   \n",
       "75%       11.000000      2.000000                         1.000000   \n",
       "max       99.000000      9.000000                         9.000000   \n",
       "\n",
       "            numoccs      malcohol  drivpres     crashtype  criticaleventcat  \\\n",
       "count  51914.000000  51914.000000   51914.0  51914.000000      51914.000000   \n",
       "mean       2.068922      0.172766       1.0     44.903475          3.074989   \n",
       "std        7.486464      0.378049       0.0     35.560365          1.437860   \n",
       "min        1.000000      0.000000       1.0      0.000000          1.000000   \n",
       "25%        1.000000      0.000000       1.0     13.000000          2.000000   \n",
       "50%        1.000000      0.000000       1.0     50.000000          3.000000   \n",
       "75%        2.000000      0.000000       1.0     82.000000          4.000000   \n",
       "max       99.000000      1.000000       1.0     99.000000          9.000000   \n",
       "\n",
       "       criticalevent      trafflow  \n",
       "count   51914.000000  51914.000000  \n",
       "mean       41.308009      1.872674  \n",
       "std        28.957103      1.310812  \n",
       "min         1.000000      0.000000  \n",
       "25%        13.000000      1.000000  \n",
       "50%        51.000000      1.000000  \n",
       "75%        62.000000      3.000000  \n",
       "max        99.000000      9.000000  \n",
       "\n",
       "[8 rows x 22 columns]"
      ]
     },
     "execution_count": 92,
     "metadata": {},
     "output_type": "execute_result"
    }
   ],
   "source": [
    "df.describe()"
   ]
  },
  {
   "cell_type": "code",
   "execution_count": 93,
   "metadata": {
    "collapsed": false
   },
   "outputs": [
    {
     "data": {
      "text/plain": [
       "Index([u'state_definitions', u'casenum', u'vehicle_number', u'hyperlink',\n",
       "       u'atmospheric_condition_1', u'atmospheric_condition_2',\n",
       "       u'crash_related_factor_1', u'crash_related_factor_2',\n",
       "       u'crash_related_factor_3', u'dayofweek', u'driverdrowsy',\n",
       "       u'First_Harmful_Event', u'funcsystem', u'holiday', u'numfatal', u'age',\n",
       "       u'alcres', u'alcsts', u'drugres1', u'drugres2', u'drugres3', u'drugsts',\n",
       "       u'person_related_factor_1', u'person_related_factor_2',\n",
       "       u'person_related_factor_3', u'person_type',\n",
       "       u'police_Related_drug_involvement', u'alcinvol', u'seatpos', u'sex',\n",
       "       u'most_harmful_event', u'number_of_fatalities_in_vehicle', u'numoccs',\n",
       "       u'commlic', u'licrestrict', u'malcohol', u'drivpres',\n",
       "       u'driver_Related_Factor_1', u'driver_Related_Factor_2',\n",
       "       u'driver_Related_Factor_3', u'driver_Related_Factor_4', u'noncdl',\n",
       "       u'noncdltype', u'prevacc', u'crashtype', u'criticaleventcat',\n",
       "       u'criticalevent', u'dridistract', u'surfcond', u'trafflow'],\n",
       "      dtype='object')"
      ]
     },
     "execution_count": 93,
     "metadata": {},
     "output_type": "execute_result"
    }
   ],
   "source": [
    "df.columns"
   ]
  },
  {
   "cell_type": "code",
   "execution_count": 94,
   "metadata": {
    "collapsed": false
   },
   "outputs": [
    {
     "data": {
      "text/plain": [
       "<matplotlib.axes._subplots.AxesSubplot at 0x116ce0b50>"
      ]
     },
     "execution_count": 94,
     "metadata": {},
     "output_type": "execute_result"
    },
    {
     "data": {
      "image/png": "[encoded data removed]",
      "text/plain": [
       "<matplotlib.figure.Figure at 0x116b74790>"
      ]
     },
     "metadata": {},
     "output_type": "display_data"
    }
   ],
   "source": [
    "df['sex'].plot(kind='hist')"
   ]
  },
  {
   "cell_type": "code",
   "execution_count": 95,
   "metadata": {
    "collapsed": false,
    "scrolled": true
   },
   "outputs": [
    {
     "data": {
      "text/plain": [
       "{5: 1,\n",
       " 7: 2,\n",
       " 8: 1,\n",
       " 9: 1,\n",
       " 10: 3,\n",
       " 11: 7,\n",
       " 12: 7,\n",
       " 13: 15,\n",
       " 14: 29,\n",
       " 15: 82,\n",
       " 16: 363,\n",
       " 17: 565,\n",
       " 18: 798,\n",
       " 19: 847,\n",
       " 20: 922,\n",
       " 21: 1006,\n",
       " 22: 1047,\n",
       " 23: 1014,\n",
       " 24: 977,\n",
       " 25: 996,\n",
       " 26: 943,\n",
       " 27: 978,\n",
       " 28: 875,\n",
       " 29: 834,\n",
       " 30: 796,\n",
       " 31: 796,\n",
       " 32: 786,\n",
       " 33: 773,\n",
       " 34: 692,\n",
       " 35: 695,\n",
       " 36: 688,\n",
       " 37: 665,\n",
       " 38: 633,\n",
       " 39: 638,\n",
       " 40: 615,\n",
       " 41: 607,\n",
       " 42: 648,\n",
       " 43: 617,\n",
       " 44: 645,\n",
       " 45: 641,\n",
       " 46: 637,\n",
       " 47: 597,\n",
       " 48: 581,\n",
       " 49: 596,\n",
       " 50: 620,\n",
       " 51: 638,\n",
       " 52: 731,\n",
       " 53: 651,\n",
       " 54: 608,\n",
       " 55: 659,\n",
       " 56: 645,\n",
       " 57: 589,\n",
       " 58: 608,\n",
       " 59: 577,\n",
       " 60: 550,\n",
       " 61: 527,\n",
       " 62: 509,\n",
       " 63: 458,\n",
       " 64: 451,\n",
       " 65: 448,\n",
       " 66: 408,\n",
       " 67: 384,\n",
       " 68: 380,\n",
       " 69: 394,\n",
       " 70: 289,\n",
       " 71: 257,\n",
       " 72: 296,\n",
       " 73: 260,\n",
       " 74: 246,\n",
       " 75: 208,\n",
       " 76: 193,\n",
       " 77: 205,\n",
       " 78: 179,\n",
       " 79: 177,\n",
       " 80: 179,\n",
       " 81: 160,\n",
       " 82: 140,\n",
       " 83: 135,\n",
       " 84: 144,\n",
       " 85: 115,\n",
       " 86: 117,\n",
       " 87: 96,\n",
       " 88: 81,\n",
       " 89: 94,\n",
       " 90: 61,\n",
       " 91: 56,\n",
       " 92: 33,\n",
       " 93: 25,\n",
       " 94: 14,\n",
       " 95: 6,\n",
       " 96: 14,\n",
       " 97: 6,\n",
       " 98: 1,\n",
       " 99: 2,\n",
       " 100: 1,\n",
       " 101: 1,\n",
       " 998: 100,\n",
       " 999: 733,\n",
       " '12': 2,\n",
       " '13': 3,\n",
       " '14': 5,\n",
       " '15': 20,\n",
       " '16': 52,\n",
       " '17': 128,\n",
       " '18': 217,\n",
       " '19': 251,\n",
       " '20': 269,\n",
       " '21': 271,\n",
       " '22': 312,\n",
       " '23': 296,\n",
       " '24': 310,\n",
       " '25': 269,\n",
       " '26': 262,\n",
       " '27': 279,\n",
       " '28': 268,\n",
       " '29': 207,\n",
       " '30': 208,\n",
       " '31': 234,\n",
       " '32': 210,\n",
       " '33': 211,\n",
       " '34': 198,\n",
       " '35': 198,\n",
       " '36': 177,\n",
       " '37': 171,\n",
       " '38': 153,\n",
       " '39': 142,\n",
       " '40': 172,\n",
       " '41': 183,\n",
       " '42': 133,\n",
       " '43': 169,\n",
       " '44': 167,\n",
       " '45': 146,\n",
       " '46': 166,\n",
       " '47': 158,\n",
       " '48': 167,\n",
       " '49': 152,\n",
       " '5': 1,\n",
       " '50': 171,\n",
       " '51': 169,\n",
       " '52': 182,\n",
       " '53': 172,\n",
       " '54': 163,\n",
       " '55': 190,\n",
       " '56': 146,\n",
       " '57': 138,\n",
       " '58': 160,\n",
       " '59': 128,\n",
       " '60': 136,\n",
       " '61': 125,\n",
       " '62': 131,\n",
       " '63': 118,\n",
       " '64': 121,\n",
       " '65': 90,\n",
       " '66': 97,\n",
       " '67': 93,\n",
       " '68': 86,\n",
       " '69': 85,\n",
       " '70': 74,\n",
       " '71': 56,\n",
       " '72': 58,\n",
       " '73': 59,\n",
       " '74': 62,\n",
       " '75': 50,\n",
       " '76': 38,\n",
       " '77': 44,\n",
       " '78': 35,\n",
       " '79': 37,\n",
       " '80': 37,\n",
       " '81': 42,\n",
       " '82': 30,\n",
       " '83': 31,\n",
       " '84': 25,\n",
       " '85': 34,\n",
       " '86': 30,\n",
       " '87': 17,\n",
       " '88': 16,\n",
       " '89': 13,\n",
       " '90': 10,\n",
       " '91': 11,\n",
       " '92': 7,\n",
       " '93': 8,\n",
       " '94': 5,\n",
       " '95': 2,\n",
       " '96': 3,\n",
       " '97': 1,\n",
       " '98': 1,\n",
       " '99': 1,\n",
       " '998': 14,\n",
       " '999': 307}"
      ]
     },
     "execution_count": 95,
     "metadata": {},
     "output_type": "execute_result"
    }
   ],
   "source": [
    "df['age'].unique()\n",
    "# There are a few Dots present in the data\n",
    "df['age'].value_counts().to_dict()"
   ]
  },
  {
   "cell_type": "code",
   "execution_count": 96,
   "metadata": {
    "collapsed": false
   },
   "outputs": [],
   "source": [
    "df.age[df.age == '.'] = '-1' \n"
   ]
  },
  {
   "cell_type": "code",
   "execution_count": 97,
   "metadata": {
    "collapsed": false
   },
   "outputs": [],
   "source": [
    "df.age = df.age.astype(np.int64)"
   ]
  },
  {
   "cell_type": "code",
   "execution_count": 98,
   "metadata": {
    "collapsed": false
   },
   "outputs": [
    {
     "data": {
      "text/plain": [
       "<matplotlib.axes._subplots.AxesSubplot at 0x116e316d0>"
      ]
     },
     "execution_count": 98,
     "metadata": {},
     "output_type": "execute_result"
    },
    {
     "data": {
      "image/png": "[encoded data removed]",
      "text/plain": [
       "<matplotlib.figure.Figure at 0x117ae2690>"
      ]
     },
     "metadata": {},
     "output_type": "display_data"
    }
   ],
   "source": [
    "df['age'].plot(kind='hist')"
   ]
  },
  {
   "cell_type": "code",
   "execution_count": 99,
   "metadata": {
    "collapsed": false
   },
   "outputs": [
    {
     "data": {
      "text/plain": [
       "Index([u'state_definitions', u'casenum', u'vehicle_number', u'hyperlink',\n",
       "       u'atmospheric_condition_1', u'atmospheric_condition_2',\n",
       "       u'crash_related_factor_1', u'crash_related_factor_2',\n",
       "       u'crash_related_factor_3', u'dayofweek', u'driverdrowsy',\n",
       "       u'First_Harmful_Event', u'funcsystem', u'holiday', u'numfatal', u'age',\n",
       "       u'alcres', u'alcsts', u'drugres1', u'drugres2', u'drugres3', u'drugsts',\n",
       "       u'person_related_factor_1', u'person_related_factor_2',\n",
       "       u'person_related_factor_3', u'person_type',\n",
       "       u'police_Related_drug_involvement', u'alcinvol', u'seatpos', u'sex',\n",
       "       u'most_harmful_event', u'number_of_fatalities_in_vehicle', u'numoccs',\n",
       "       u'commlic', u'licrestrict', u'malcohol', u'drivpres',\n",
       "       u'driver_Related_Factor_1', u'driver_Related_Factor_2',\n",
       "       u'driver_Related_Factor_3', u'driver_Related_Factor_4', u'noncdl',\n",
       "       u'noncdltype', u'prevacc', u'crashtype', u'criticaleventcat',\n",
       "       u'criticalevent', u'dridistract', u'surfcond', u'trafflow'],\n",
       "      dtype='object')"
      ]
     },
     "execution_count": 99,
     "metadata": {},
     "output_type": "execute_result"
    }
   ],
   "source": [
    "df.columns\n"
   ]
  },
  {
   "cell_type": "code",
   "execution_count": 100,
   "metadata": {
    "collapsed": false
   },
   "outputs": [
    {
     "data": {
      "text/plain": [
       "<matplotlib.axes._subplots.AxesSubplot at 0x116e3f9d0>"
      ]
     },
     "execution_count": 100,
     "metadata": {},
     "output_type": "execute_result"
    },
    {
     "data": {
      "image/png": "[encoded data removed]",
      "text/plain": [
       "<matplotlib.figure.Figure at 0x116674090>"
      ]
     },
     "metadata": {},
     "output_type": "display_data"
    }
   ],
   "source": [
    "df['person_type'].plot(kind='hist')"
   ]
  },
  {
   "cell_type": "code",
   "execution_count": 101,
   "metadata": {
    "collapsed": false
   },
   "outputs": [
    {
     "name": "stderr",
     "output_type": "stream",
     "text": [
      "/Users/danielsampetethiyagu/anaconda/lib/python2.7/site-packages/ipykernel/__main__.py:1: SettingWithCopyWarning: \n",
      "A value is trying to be set on a copy of a slice from a DataFrame\n",
      "\n",
      "See the caveats in the documentation: http://pandas.pydata.org/pandas-docs/stable/indexing.html#indexing-view-versus-copy\n",
      "  if __name__ == '__main__':\n",
      "/Users/danielsampetethiyagu/anaconda/lib/python2.7/site-packages/ipykernel/__main__.py:2: SettingWithCopyWarning: \n",
      "A value is trying to be set on a copy of a slice from a DataFrame\n",
      "\n",
      "See the caveats in the documentation: http://pandas.pydata.org/pandas-docs/stable/indexing.html#indexing-view-versus-copy\n",
      "  from ipykernel import kernelapp as app\n",
      "/Users/danielsampetethiyagu/anaconda/lib/python2.7/site-packages/ipykernel/__main__.py:3: SettingWithCopyWarning: \n",
      "A value is trying to be set on a copy of a slice from a DataFrame\n",
      "\n",
      "See the caveats in the documentation: http://pandas.pydata.org/pandas-docs/stable/indexing.html#indexing-view-versus-copy\n",
      "  app.launch_new_instance()\n"
     ]
    }
   ],
   "source": [
    "df.age[df[\"age\"]<21] = 0\n",
    "df.age[(df[\"age\"]>=21) & (df[\"age\"]<=50)] = 1\n",
    "df.age[df[\"age\"]>50] = 2"
   ]
  },
  {
   "cell_type": "code",
   "execution_count": 103,
   "metadata": {
    "collapsed": false
   },
   "outputs": [
    {
     "data": {
      "text/plain": [
       "<matplotlib.axes._subplots.AxesSubplot at 0x116674610>"
      ]
     },
     "execution_count": 103,
     "metadata": {},
     "output_type": "execute_result"
    },
    {
     "data": {
      "image/png": "[encoded data removed]",
      "text/plain": [
       "<matplotlib.figure.Figure at 0x114a48cd0>"
      ]
     },
     "metadata": {},
     "output_type": "display_data"
    }
   ],
   "source": [
    "df['age'].plot(kind='hist')"
   ]
  },
  {
   "cell_type": "code",
   "execution_count": 104,
   "metadata": {
    "collapsed": true
   },
   "outputs": [],
   "source": [
    "gender_male = df[df['sex']==1]\n",
    "gender_female = df[df['sex']==2]\n",
    "under_21 = df[df[\"age\"]==0]\n",
    "after_21_to_50 = df[df[\"age\"]==1]\n",
    "after_50 = df[df[\"age\"]==2]"
   ]
  },
  {
   "cell_type": "code",
   "execution_count": 110,
   "metadata": {
    "collapsed": false
   },
   "outputs": [],
   "source": [
    "gender_male_gn_crash = float(len(gender_male)) / len(df)\n",
    "gender_female_gn_crash = float(len(gender_female)) / len(df)\n",
    "under_21_gn_crash = float(len(under_21)) / len(df)\n",
    "after_21_to_50_gn_crash = float(len(after_21_to_50)) / len(df)\n",
    "after_50_gn_crash = float(len(after_50)) / len(df)"
   ]
  },
  {
   "cell_type": "code",
   "execution_count": 111,
   "metadata": {
    "collapsed": true
   },
   "outputs": [],
   "source": [
    "gender_male_under_21_gn_crash = float(len(gender_male[gender_male[\"age\"]==0]))/ len(gender_male)\n",
    "gender_male_after_21_to_50_gn_crash = float(len(gender_male[gender_male[\"age\"]==1])) / len(gender_male)\n",
    "gender_male_after_50_gn_crash = float(len(gender_male[gender_male[\"age\"]==2])) / len(gender_male)\n",
    "\n",
    "gender_female_under_21_gn_crash = float(len(gender_female[gender_female[\"age\"]==0])) / len(gender_female)\n",
    "gender_female_after_21_to_50_gn_crash = float(len(gender_female[gender_female[\"age\"]==1])) / len(gender_female)\n",
    "gender_female_after_50_gn_crash = float(len(gender_female[gender_female[\"age\"]==2])) / len(gender_female)\n"
   ]
  },
  {
   "cell_type": "code",
   "execution_count": 114,
   "metadata": {
    "collapsed": false
   },
   "outputs": [
    {
     "name": "stdout",
     "output_type": "stream",
     "text": [
      "0.0848152486423 0.0639897095764\n",
      "0.570226812906 0.401360853183\n",
      "0.344957938452 0.258230744788\n",
      "0.105580239476 0.0226205769744\n",
      "0.554559831313 0.141882407875\n",
      "0.339859929212 0.0912854344596\n"
     ]
    }
   ],
   "source": [
    "print gender_male_under_21_gn_crash, gender_male_gn_crash*under_21_gn_crash\n",
    "print gender_male_after_21_to_50_gn_crash, gender_male_gn_crash*after_21_to_50_gn_crash\n",
    "print gender_male_after_50_gn_crash, gender_male_gn_crash*after_50_gn_crash\n",
    "print gender_female_under_21_gn_crash, gender_female_gn_crash*under_21_gn_crash\n",
    "print gender_female_after_21_to_50_gn_crash, gender_female_gn_crash*after_21_to_50_gn_crash\n",
    "print gender_female_after_50_gn_crash, gender_female_gn_crash*after_50_gn_crash"
   ]
  }
 ],
 "metadata": {
  "kernelspec": {
   "display_name": "Python [Root]",
   "language": "python",
   "name": "Python [Root]"
  },
  "language_info": {
   "codemirror_mode": {
    "name": "ipython",
    "version": 2
   },
   "file_extension": ".py",
   "mimetype": "text/x-python",
   "name": "python",
   "nbconvert_exporter": "python",
   "pygments_lexer": "ipython2",
   "version": "2.7.12"
  }
 },
 "nbformat": 4,
 "nbformat_minor": 0
}
