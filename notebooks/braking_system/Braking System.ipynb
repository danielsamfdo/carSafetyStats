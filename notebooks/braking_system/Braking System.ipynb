{
 "cells": [
  {
   "cell_type": "code",
   "execution_count": 1,
   "metadata": {
    "collapsed": true
   },
   "outputs": [],
   "source": [
    "import pandas as pd\n",
    "%matplotlib inline\n",
    "from datetime import datetime\n",
    "\n",
    "import matplotlib\n",
    "import numpy as np\n",
    "import matplotlib.pyplot as plt\n",
    "%load_ext autoreload\n",
    "%autoreload 2"
   ]
  },
  {
   "cell_type": "code",
   "execution_count": 2,
   "metadata": {
    "collapsed": true
   },
   "outputs": [],
   "source": [
    "import random\n",
    "from collections import defaultdict\n",
    "\n",
    "class Sampler():\n",
    "    def __init__(self, ped_posx_mean, ped_posx_std, ped_posy_mean, ped_posy_std, ped_vel_mean, ped_vel_std, car_posx_mean, car_posx_std, car_posy_mean, car_posy_std, car_vel_mean, car_vel_std ):\n",
    "        self.ped_posx_mean, self.ped_posx_std, self.ped_posy_mean, self.ped_posy_std, self.ped_vel_mean, self.ped_vel_std, self.car_posx_mean, self.car_posx_std, self.car_posy_mean, self.car_posy_std, self.car_vel_mean, self.car_vel_std = ped_posx_mean, ped_posx_std, ped_posy_mean, ped_posy_std, ped_vel_mean, ped_vel_std, car_posx_mean, car_posx_std, car_posy_mean, car_posy_std, car_vel_mean, car_vel_std\n",
    "    \n",
    "    def random_sample(self):\n",
    "        self.ped_x = np.random.uniform(self.ped_posx_mean-self.ped_posx_std,self.ped_posx_mean+self.ped_posx_std,1)[0]\n",
    "        self.ped_y = np.random.normal(self.ped_posy_mean,self.ped_posy_mean,1)[0]\n",
    "        self.pos_x = 0#np.random.normal(self.car_posx_mean,self.car_posx_std,1)[0]\n",
    "        self.pos_y = np.random.normal(self.car_posy_mean,self.car_posy_std,1)[0]\n",
    "        self.vel = np.random.uniform(self.car_vel_mean-self.car_vel_std,self.car_vel_mean-self.car_vel_std,1)[0]\n",
    "        self.SP = np.random.choice([0],1,[1.0])[0]\n",
    "        return {'ped_x': self.ped_x, 'ped_y': self.ped_y, 'pos_x': self.pos_x, 'pos_y': self.pos_y, 'vel': self.vel, 'SP': self.SP}"
   ]
  },
  {
   "cell_type": "code",
   "execution_count": 3,
   "metadata": {
    "collapsed": false
   },
   "outputs": [
    {
     "name": "stdout",
     "output_type": "stream",
     "text": [
      "class State(tuple):\n",
      "    'State(ped_x, ped_y, pos_x, pos_y, vel)'\n",
      "\n",
      "    __slots__ = ()\n",
      "\n",
      "    _fields = ('ped_x', 'ped_y', 'pos_x', 'pos_y', 'vel')\n",
      "\n",
      "    def __new__(_cls, ped_x, ped_y, pos_x, pos_y, vel):\n",
      "        'Create new instance of State(ped_x, ped_y, pos_x, pos_y, vel)'\n",
      "        return _tuple.__new__(_cls, (ped_x, ped_y, pos_x, pos_y, vel))\n",
      "\n",
      "    @classmethod\n",
      "    def _make(cls, iterable, new=tuple.__new__, len=len):\n",
      "        'Make a new State object from a sequence or iterable'\n",
      "        result = new(cls, iterable)\n",
      "        if len(result) != 5:\n",
      "            raise TypeError('Expected 5 arguments, got %d' % len(result))\n",
      "        return result\n",
      "\n",
      "    def __repr__(self):\n",
      "        'Return a nicely formatted representation string'\n",
      "        return 'State(ped_x=%r, ped_y=%r, pos_x=%r, pos_y=%r, vel=%r)' % self\n",
      "\n",
      "    def _asdict(self):\n",
      "        'Return a new OrderedDict which maps field names to their values'\n",
      "        return OrderedDict(zip(self._fields, self))\n",
      "\n",
      "    def _replace(_self, **kwds):\n",
      "        'Return a new State object replacing specified fields with new values'\n",
      "        result = _self._make(map(kwds.pop, ('ped_x', 'ped_y', 'pos_x', 'pos_y', 'vel'), _self))\n",
      "        if kwds:\n",
      "            raise ValueError('Got unexpected field names: %r' % kwds.keys())\n",
      "        return result\n",
      "\n",
      "    def __getnewargs__(self):\n",
      "        'Return self as a plain tuple.  Used by copy and pickle.'\n",
      "        return tuple(self)\n",
      "\n",
      "    __dict__ = _property(_asdict)\n",
      "\n",
      "    def __getstate__(self):\n",
      "        'Exclude the OrderedDict from pickling'\n",
      "        pass\n",
      "\n",
      "    ped_x = _property(_itemgetter(0), doc='Alias for field number 0')\n",
      "\n",
      "    ped_y = _property(_itemgetter(1), doc='Alias for field number 1')\n",
      "\n",
      "    pos_x = _property(_itemgetter(2), doc='Alias for field number 2')\n",
      "\n",
      "    pos_y = _property(_itemgetter(3), doc='Alias for field number 3')\n",
      "\n",
      "    vel = _property(_itemgetter(4), doc='Alias for field number 4')\n",
      "\n",
      "\n"
     ]
    }
   ],
   "source": [
    "from collections import namedtuple\n",
    "\n",
    "features = ['ped_x','ped_y','pos_x','pos_y', 'vel']\n",
    "State = namedtuple('State', features, verbose=True)\n"
   ]
  },
  {
   "cell_type": "code",
   "execution_count": 4,
   "metadata": {
    "collapsed": true
   },
   "outputs": [],
   "source": [
    "class CarBrakerEnv():\n",
    "    def __init__(self,sampler):\n",
    "        self.sampler = sampler\n",
    "        self.reset_state()\n",
    "        \n",
    "    def reset_state(self):\n",
    "        self.state = sampler.random_sample()\n",
    "        self.SP = self.state['SP']\n",
    "        state_val = []\n",
    "        self.ped_x = self.state['ped_x']\n",
    "        assert self.ped_x != 75\n",
    "        assert self.state['vel'] != 5\n",
    "        self.ped_y = self.state['ped_y']\n",
    "        self.end_pos_x = 125.0\n",
    "        for name in features:\n",
    "            state_val.append(self.state[name])\n",
    "        \n",
    "        self.state_tuple = State._make(state_val)\n",
    "        self.state = self.state_tuple\n",
    "        self.state_tuple = self.state_tuple._replace(ped_x = -1)\n",
    "        self.state_tuple = self.state_tuple._replace(ped_y = -1)\n",
    "\n",
    "        self.possible_actions = [0,1] # 0 for not braking, 1 for braking to the warning\n",
    "        self.time = 0\n",
    "        self.warning_signalled = 0\n",
    "        self.terminated = False\n",
    "        return\n",
    "    \n",
    "    def next_step(self, action):\n",
    "        self.time+=1\n",
    "        self.reward = -1\n",
    "        if(action == 0):\n",
    "            self.state_tuple = self.state_tuple._replace(pos_x = self.state_tuple.pos_x + self.state_tuple.vel)\n",
    "        if(self.ped_x > 0 and abs(self.ped_x - self.state_tuple.pos_x)<=20 and self.warning_signalled==0):\n",
    "            self.state_tuple = self.state_tuple._replace(ped_x = self.ped_x)\n",
    "            self.state_tuple = self.state_tuple._replace(ped_y = self.ped_y)\n",
    "            self.warning_signalled = 1\n",
    "            \n",
    "        if(action == 0 and self.state_tuple.ped_x > 0 and (self.state_tuple.ped_x<=self.state_tuple.pos_x)):\n",
    "            self.reward = -1000\n",
    "            self.terminated = True\n",
    "        elif(action == 1 and self.state_tuple.ped_x > 0):\n",
    "            self.reward = 100\n",
    "            self.terminated = True\n",
    "        if(self.state_tuple.pos_x >= self.end_pos_x or (self.state_tuple.ped_x > 0 and action==0 and (self.state_tuple.ped_x<=self.state_tuple.pos_x))):\n",
    "            self.terminated = True\n",
    "        return (self.state_tuple), self.reward\n",
    "    \n",
    "    \n"
   ]
  },
  {
   "cell_type": "code",
   "execution_count": null,
   "metadata": {
    "collapsed": true
   },
   "outputs": [],
   "source": []
  },
  {
   "cell_type": "code",
   "execution_count": null,
   "metadata": {
    "collapsed": false
   },
   "outputs": [],
   "source": []
  },
  {
   "cell_type": "code",
   "execution_count": 5,
   "metadata": {
    "collapsed": false
   },
   "outputs": [],
   "source": [
    "sampler = Sampler( ped_posx_mean=75, ped_posx_std=30, ped_posy_mean=1, ped_posy_std=0.01, ped_vel_mean=1, ped_vel_std=0.01, car_posx_mean=0.01, car_posx_std=0.01, car_posy_mean=1, car_posy_std=0.01, car_vel_mean=15, car_vel_std=5 )\n",
    "env = CarBrakerEnv(sampler)\n",
    "#     print(reward,\" PED (\" + str(state.ped_x) + \" , \" + str(state.ped_y) +\") \",\" CAR (\" + str(state.pos_x) + \" , \" + str(state.pos_y) +\") \")\n"
   ]
  },
  {
   "cell_type": "code",
   "execution_count": 6,
   "metadata": {
    "collapsed": false
   },
   "outputs": [
    {
     "name": "stdout",
     "output_type": "stream",
     "text": [
      "State(ped_x=-1, ped_y=-1, pos_x=0, pos_y=1.0098755422028012, vel=10.0)\n",
      "[[-1, -1, 10.0, 1.0098755422028012, -1], [-1, -1, 20.0, 1.0098755422028012, -1], [47.468449707579978, 1.6166595966710746, 30.0, 1.0098755422028012, -1], [47.468449707579978, 1.6166595966710746, 40.0, 1.0098755422028012, -1], [47.468449707579978, 1.6166595966710746, 50.0, 1.0098755422028012, -1000]]\n"
     ]
    }
   ],
   "source": [
    "lines = []\n",
    "env.reset_state()\n",
    "print env.state_tuple\n",
    "while(env.terminated == False):\n",
    "    state, reward = env.next_step(0)\n",
    "    lines.append([state.ped_x,state.ped_y,state.pos_x,state.pos_y, reward])\n",
    "env.reset_state()\n",
    "print lines"
   ]
  },
  {
   "cell_type": "code",
   "execution_count": 7,
   "metadata": {
    "collapsed": false
   },
   "outputs": [],
   "source": [
    "from qlearning import *\n",
    "from sarsa import *"
   ]
  },
  {
   "cell_type": "code",
   "execution_count": null,
   "metadata": {
    "collapsed": false
   },
   "outputs": [],
   "source": []
  },
  {
   "cell_type": "code",
   "execution_count": 8,
   "metadata": {
    "collapsed": false
   },
   "outputs": [
    {
     "name": "stdout",
     "output_type": "stream",
     "text": [
      "0\n",
      "10\n",
      "20\n",
      "[-1010.    30.    96.    -8.    89.    94.    74.    69.    87.    93.\n",
      "    92.    94.    94.    95.    95.    93.    90.    96.    90.    92.\n",
      "    93.    95. -1010.    96.    92.    91.    96.    94.    95.    90.] [  11.   71.    5.  109.   12.    7.   27.   32.   14.    8.    9.    7.\n",
      "    7.    6.    6.    8.   11.    5.   11.    9.    8.    6.   11.    5.\n",
      "    9.   10.    5.    7.    6.   11.]\n"
     ]
    }
   ],
   "source": [
    "ql = QLearning(env,eps_cnt=30)\n",
    "ql.run(env)\n",
    "print ql.episodes,ql.time_steps"
   ]
  },
  {
   "cell_type": "code",
   "execution_count": null,
   "metadata": {
    "collapsed": false
   },
   "outputs": [],
   "source": [
    "ql.episodes_values[30]"
   ]
  },
  {
   "cell_type": "code",
   "execution_count": 10,
   "metadata": {
    "collapsed": false
   },
   "outputs": [
    {
     "name": "stdout",
     "output_type": "stream",
     "text": [
      "[ 85.  76.  94.  85.  96.  89.  93.  94.  96.  93.  94.  95.  92.  96.  94.\n",
      "  93.  93.  92.  92.  93.  95.  91.  96.  69.  95.  94.  91.  92.  93.  93.] [ 16.  25.   7.  16.   5.  12.   8.   7.   5.   8.   7.   6.   9.   5.   7.\n",
      "   8.   8.   9.   9.   8.   6.  10.   5.  32.   6.   7.  10.   9.   8.   8.]\n"
     ]
    }
   ],
   "source": [
    "ql = SARSA(env,eps_cnt=30)\n",
    "ql.run(env)\n",
    "print ql.episodes,ql.time_steps"
   ]
  },
  {
   "cell_type": "code",
   "execution_count": 15,
   "metadata": {
    "collapsed": false
   },
   "outputs": [
    {
     "name": "stdout",
     "output_type": "stream",
     "text": [
      "[MoviePy] >>>> Building video movie_exp**3_eps_30.mp4\n",
      "[MoviePy] Writing video movie_exp**3_eps_30.mp4\n"
     ]
    },
    {
     "name": "stderr",
     "output_type": "stream",
     "text": [
      " 95%|█████████▌| 21/22 [00:02<00:00,  8.82it/s]"
     ]
    },
    {
     "name": "stdout",
     "output_type": "stream",
     "text": [
      "[MoviePy] Done.\n",
      "[MoviePy] >>>> Video ready: movie_exp**3_eps_30.mp4 \n",
      "\n"
     ]
    },
    {
     "name": "stderr",
     "output_type": "stream",
     "text": [
      "\n"
     ]
    },
    {
     "data": {
      "image/png": "[encoded data removed]",
      "text/plain": [
       "<matplotlib.figure.Figure at 0x1136ad2d0>"
      ]
     },
     "metadata": {},
     "output_type": "display_data"
    }
   ],
   "source": [
    "import matplotlib.pyplot as plt\n",
    "import numpy as np\n",
    "from moviepy.video.io.bindings import mplfig_to_npimage\n",
    "import moviepy.editor as mpy\n",
    "\n",
    "# DRAW A FIGURE WITH MATPLOTLIB\n",
    "\n",
    "duration = 20\n",
    "\n",
    "fig_mpl, ax = plt.subplots(1,figsize=(5,3), facecolor='white')\n",
    "xx = np.linspace(-1,140,200) # the x vector\n",
    "ax.set_title(\"Elevation in y=0\")\n",
    "ax.set_ylim(-1.5,2.5)\n",
    "\n",
    "# ANIMATE WITH MOVIEPY (UPDATE THE CURVE FOR EACH t). MAKE A GIF.\n",
    "t = 0\n",
    "episode_id = 30\n",
    "def make_frame_mpl(m):\n",
    "    global t,episode_id\n",
    "    x = []\n",
    "    y = []\n",
    "    xobs = []\n",
    "    yobs = []\n",
    "    l = float(m)\n",
    "    if(len(ql.episodes_values[episode_id])>m):\n",
    "        if(t!=len(ql.episodes_values[episode_id])-1):\n",
    "            t+=1\n",
    "            text = 'Velocity'+str(ql.episodes_values[episode_id][int(t)][2])\n",
    "        else:\n",
    "            text = 'Completed'\n",
    "    if(ql.episodes_values[episode_id][int(t)][0]>0):\n",
    "        xobs.append(int(ql.episodes_values[episode_id][int(t)][0]))\n",
    "        yobs.append(1)\n",
    "    x.append(int(ql.episodes_values[episode_id][int(t)][1]))\n",
    "    y.append(1)\n",
    "    ax.clear()\n",
    "    ax.set_ylim(-1.5,2.5)\n",
    "    ax.set_xlim(0,200)\n",
    "    ax.plot(x, y, 'bo',label='car')\n",
    "    ax.plot(xobs, yobs, 'ro',label='person')\n",
    "    ax.plot([], [], ' ',label=text)\n",
    "    ax.legend()\n",
    "\n",
    "    \n",
    "#     line.set_ydata( )  # <= Update the curve\n",
    "    return mplfig_to_npimage(fig_mpl) # RGB image of the figure\n",
    "\n",
    "animation =mpy.VideoClip(make_frame_mpl, duration=len(ql.episodes_values[episode_id])/4.0+3)\n",
    "# animation.write_gif(\"sinc_mpl.gif\", fps=20)\n",
    "animation.write_videofile(\"movie_exp**3_eps_30.mp4\",fps=4)"
   ]
  },
  {
   "cell_type": "code",
   "execution_count": null,
   "metadata": {
    "collapsed": false
   },
   "outputs": [],
   "source": []
  }
 ],
 "metadata": {
  "anaconda-cloud": {},
  "kernelspec": {
   "display_name": "Python [Root]",
   "language": "python",
   "name": "Python [Root]"
  },
  "language_info": {
   "codemirror_mode": {
    "name": "ipython",
    "version": 2
   },
   "file_extension": ".py",
   "mimetype": "text/x-python",
   "name": "python",
   "nbconvert_exporter": "python",
   "pygments_lexer": "ipython2",
   "version": "2.7.12"
  }
 },
 "nbformat": 4,
 "nbformat_minor": 0
}
