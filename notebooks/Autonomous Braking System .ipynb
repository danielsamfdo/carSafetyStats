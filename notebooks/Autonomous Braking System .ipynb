{
 "cells": [
  {
   "cell_type": "code",
   "execution_count": 1,
   "metadata": {
    "collapsed": true
   },
   "outputs": [],
   "source": [
    "import pandas as pd\n",
    "%matplotlib inline\n",
    "from datetime import datetime\n",
    "\n",
    "import matplotlib\n",
    "import numpy as np\n",
    "import matplotlib.pyplot as plt\n",
    "%load_ext autoreload\n",
    "%autoreload 2"
   ]
  },
  {
   "cell_type": "code",
   "execution_count": 2,
   "metadata": {
    "collapsed": false
   },
   "outputs": [],
   "source": [
    "import random\n",
    "from collections import defaultdict\n",
    "\n",
    "class Sampler():\n",
    "    def __init__(self, ped_posx_low, ped_posx_high, ped_posy_low, ped_posy_high, ped_vel_mean, ped_vel_std, car_posx_mean, car_posx_std, car_posy_mean, car_posy_std, car_vel_mean, car_vel_std ):\n",
    "        self.ped_posx_low, self.ped_posx_high, self.ped_posy_low, self.ped_posy_high, self.ped_vel_mean, self.ped_vel_std, self.car_posx_mean, self.car_posx_std, self.car_posy_mean, self.car_posy_std, self.car_vel_mean, self.car_vel_std = ped_posx_low, ped_posx_high, ped_posy_low, ped_posy_high, ped_vel_mean, ped_vel_std, car_posx_mean, car_posx_std, car_posy_mean, car_posy_std, car_vel_mean, car_vel_std\n",
    "    \n",
    "    def random_sample(self):\n",
    "        self.ped_x = np.random.uniform(self.ped_posx_low,self.ped_posx_high,1)[0]\n",
    "        self.ped_y = np.random.uniform(self.ped_posy_low,self.ped_posy_high,1)[0]\n",
    "        self.pos_x = 0#np.random.normal(self.car_posx_mean,self.car_posx_std,1)[0]\n",
    "        self.pos_y = np.random.normal(self.car_posy_mean,self.car_posy_std,1)[0]\n",
    "        self.vel = 10#np.random.uniform(self.car_vel_mean-self.car_vel_std,self.car_vel_mean-self.car_vel_std,1)[0]\n",
    "        self.SP = np.random.choice([0],1,[1.0])[0]\n",
    "        return {'ped_x': self.ped_x, 'ped_y': self.ped_y, 'pos_x': self.pos_x, 'pos_y': self.pos_y, 'vel': self.vel, 'SP': self.SP}"
   ]
  },
  {
   "cell_type": "code",
   "execution_count": 3,
   "metadata": {
    "collapsed": false
   },
   "outputs": [
    {
     "name": "stdout",
     "output_type": "stream",
     "text": [
      "class State(tuple):\n",
      "    'State(ped_x, ped_y, pos_x, pos_y, vel)'\n",
      "\n",
      "    __slots__ = ()\n",
      "\n",
      "    _fields = ('ped_x', 'ped_y', 'pos_x', 'pos_y', 'vel')\n",
      "\n",
      "    def __new__(_cls, ped_x, ped_y, pos_x, pos_y, vel):\n",
      "        'Create new instance of State(ped_x, ped_y, pos_x, pos_y, vel)'\n",
      "        return _tuple.__new__(_cls, (ped_x, ped_y, pos_x, pos_y, vel))\n",
      "\n",
      "    @classmethod\n",
      "    def _make(cls, iterable, new=tuple.__new__, len=len):\n",
      "        'Make a new State object from a sequence or iterable'\n",
      "        result = new(cls, iterable)\n",
      "        if len(result) != 5:\n",
      "            raise TypeError('Expected 5 arguments, got %d' % len(result))\n",
      "        return result\n",
      "\n",
      "    def __repr__(self):\n",
      "        'Return a nicely formatted representation string'\n",
      "        return 'State(ped_x=%r, ped_y=%r, pos_x=%r, pos_y=%r, vel=%r)' % self\n",
      "\n",
      "    def _asdict(self):\n",
      "        'Return a new OrderedDict which maps field names to their values'\n",
      "        return OrderedDict(zip(self._fields, self))\n",
      "\n",
      "    def _replace(_self, **kwds):\n",
      "        'Return a new State object replacing specified fields with new values'\n",
      "        result = _self._make(map(kwds.pop, ('ped_x', 'ped_y', 'pos_x', 'pos_y', 'vel'), _self))\n",
      "        if kwds:\n",
      "            raise ValueError('Got unexpected field names: %r' % kwds.keys())\n",
      "        return result\n",
      "\n",
      "    def __getnewargs__(self):\n",
      "        'Return self as a plain tuple.  Used by copy and pickle.'\n",
      "        return tuple(self)\n",
      "\n",
      "    __dict__ = _property(_asdict)\n",
      "\n",
      "    def __getstate__(self):\n",
      "        'Exclude the OrderedDict from pickling'\n",
      "        pass\n",
      "\n",
      "    ped_x = _property(_itemgetter(0), doc='Alias for field number 0')\n",
      "\n",
      "    ped_y = _property(_itemgetter(1), doc='Alias for field number 1')\n",
      "\n",
      "    pos_x = _property(_itemgetter(2), doc='Alias for field number 2')\n",
      "\n",
      "    pos_y = _property(_itemgetter(3), doc='Alias for field number 3')\n",
      "\n",
      "    vel = _property(_itemgetter(4), doc='Alias for field number 4')\n",
      "\n",
      "\n"
     ]
    }
   ],
   "source": [
    "from carbraker import * "
   ]
  },
  {
   "cell_type": "code",
   "execution_count": 4,
   "metadata": {
    "collapsed": true
   },
   "outputs": [],
   "source": [
    "import matplotlib.pyplot as plt\n",
    "import numpy as np\n",
    "from moviepy.video.io.bindings import mplfig_to_npimage\n",
    "import moviepy.editor as mpy\n",
    "\n",
    "# ANIMATE WITH MOVIEPY (UPDATE THE CURVE FOR EACH t). MAKE A GIF.\n",
    "\n",
    "def make_frame_mpl(m):\n",
    "    global t,episode_id,ql\n",
    "    x = []\n",
    "    y = []\n",
    "    xobs = []\n",
    "    yobs = []\n",
    "    l = float(m)\n",
    "    if(len(ql.episodes_values[episode_id])>m):\n",
    "        if(t!=len(ql.episodes_values[episode_id])-1):\n",
    "            t+=1\n",
    "            text = 'Velocity'+str(ql.episodes_values[episode_id][int(t)][2])\n",
    "        else:\n",
    "            text = 'Completed'\n",
    "    if(ql.episodes_values[episode_id][int(t)][0]>0):\n",
    "        xobs.append(int(ql.episodes_values[episode_id][int(t)][0]))\n",
    "        yobs.append(1)\n",
    "    x.append(int(ql.episodes_values[episode_id][int(t)][1]))\n",
    "    y.append(1)\n",
    "    ax.clear()\n",
    "    ax.set_ylim(-1.5,2.5)\n",
    "    ax.set_xlim(0,200)\n",
    "    ax.plot(x, y, 'bo',label='car')\n",
    "    ax.plot(xobs, yobs, 'ro',label='person')\n",
    "    ax.plot([], [], ' ',label=text)\n",
    "    ax.legend()\n",
    "\n",
    "    \n",
    "    return mplfig_to_npimage(fig_mpl) # RGB image of the figure\n",
    "\n",
    "\n"
   ]
  },
  {
   "cell_type": "code",
   "execution_count": 12,
   "metadata": {
    "collapsed": false
   },
   "outputs": [
    {
     "data": {
      "image/png": "[encoded data removed]",
      "text/plain": [
       "<matplotlib.figure.Figure at 0x113be1850>"
      ]
     },
     "metadata": {},
     "output_type": "display_data"
    }
   ],
   "source": [
    "fig_mpl, ax = plt.subplots(1,figsize=(5,3), facecolor='white')"
   ]
  },
  {
   "cell_type": "code",
   "execution_count": 5,
   "metadata": {
    "collapsed": false
   },
   "outputs": [],
   "source": [
    "# lines = []\n",
    "# env.reset_state()\n",
    "# print env.state_tuple\n",
    "# while(env.terminated == False):\n",
    "#     state, reward = env.next_step(0)\n",
    "#     lines.append([state.ped_x,state.ped_y,state.pos_x,state.pos_y, reward])\n",
    "# env.reset_state()\n",
    "# print lines"
   ]
  },
  {
   "cell_type": "code",
   "execution_count": 6,
   "metadata": {
    "collapsed": false
   },
   "outputs": [],
   "source": [
    "from qlearning import *\n",
    "from sarsa import *"
   ]
  },
  {
   "cell_type": "code",
   "execution_count": 7,
   "metadata": {
    "collapsed": false
   },
   "outputs": [],
   "source": [
    "def getdata(sar):\n",
    "    data = np.zeros((len(sar),len(sar[0].episodes)))\n",
    "    i = 0\n",
    "    for s in sar:\n",
    "        data[i] = s.episodes\n",
    "        i+=1\n",
    "    return data[:10000]\n",
    "\n",
    "def plot_and_save(fname, mean, std, ind):\n",
    "    plt.figure(figsize=(7, 7))  # Don't create a humongous figure\n",
    "    plt.errorbar(ind, mean, std, linestyle='None', color='r', marker='^')\n",
    "#     pl.ylim([-1000,0])\n",
    "#     pl.yticks(list(pl.yticks()[0]) + [-100,-200,-300,-400])\n",
    "    plt.xlabel(\"episode\")\n",
    "    plt.ylabel(\"undiscounted mean rewards\")\n",
    "    plt.savefig(fname, format='png') \n",
    "\n",
    "\n",
    "def get_graph(ag, epscount, fname):\n",
    "    data = getdata(ag)\n",
    "    std = np.std(data,axis=0)\n",
    "    mean = np.mean(data,axis=0)\n",
    "#     print data.shape, mean.shape\n",
    "    plot_and_save(fname,mean,std,np.arange(epscount))"
   ]
  },
  {
   "cell_type": "code",
   "execution_count": 8,
   "metadata": {
    "collapsed": false
   },
   "outputs": [],
   "source": [
    "def run_Ql():\n",
    "    for index, agent in enumerate(ag):\n",
    "        agent.run(env[index])\n",
    "    get_graph(ag,epscount=300,fname='ql_exp3_2correct_graph.png')\n",
    "\n",
    "trials = 10\n",
    "sampler = Sampler( ped_posx_low=45, ped_posx_high=105, ped_posy_low=45, ped_posy_high=105, ped_vel_mean=1, ped_vel_std=0.01, car_posx_mean=0.01, car_posx_std=0.01, car_posy_mean=1, car_posy_std=0.01, car_vel_mean=15, car_vel_std=5 )\n",
    "env = [CarBrakerEnv(sampler)]* trials\n",
    "ag = [QLearning(env[0],eps_cnt=300)]*(trials)    \n",
    "    \n"
   ]
  },
  {
   "cell_type": "code",
   "execution_count": 9,
   "metadata": {
    "collapsed": false
   },
   "outputs": [
    {
     "data": {
      "image/png": "[encoded data removed]",
      "text/plain": [
       "<matplotlib.figure.Figure at 0x10cadb3d0>"
      ]
     },
     "metadata": {},
     "output_type": "display_data"
    }
   ],
   "source": [
    "run_Ql()        \n"
   ]
  },
  {
   "cell_type": "code",
   "execution_count": 10,
   "metadata": {
    "collapsed": false
   },
   "outputs": [
    {
     "data": {
      "image/png": "[encoded data removed]",
      "text/plain": [
       "<matplotlib.figure.Figure at 0x10cadb410>"
      ]
     },
     "metadata": {},
     "output_type": "display_data"
    }
   ],
   "source": [
    "get_graph(ag,epscount=300,fname='ql_exp3_2correct_graph.png')"
   ]
  },
  {
   "cell_type": "code",
   "execution_count": 13,
   "metadata": {
    "collapsed": false
   },
   "outputs": [
    {
     "name": "stdout",
     "output_type": "stream",
     "text": [
      "[MoviePy] >>>> Building video braking_system/experiments/exp3/ql_trial3eps_1.mp4\n",
      "[MoviePy] Writing video braking_system/experiments/exp3/ql_trial3eps_1.mp4\n"
     ]
    },
    {
     "name": "stderr",
     "output_type": "stream",
     "text": [
      " 97%|█████████▋| 36/37 [00:04<00:00,  6.75it/s]"
     ]
    },
    {
     "name": "stdout",
     "output_type": "stream",
     "text": [
      "[MoviePy] Done.\n",
      "[MoviePy] >>>> Video ready: braking_system/experiments/exp3/ql_trial3eps_1.mp4 \n",
      "\n"
     ]
    },
    {
     "name": "stderr",
     "output_type": "stream",
     "text": [
      "\n"
     ]
    },
    {
     "name": "stdout",
     "output_type": "stream",
     "text": [
      "[MoviePy] >>>> Building video braking_system/experiments/exp3/ql_trial3eps_150.mp4\n",
      "[MoviePy] Writing video braking_system/experiments/exp3/ql_trial3eps_150.mp4\n"
     ]
    },
    {
     "name": "stderr",
     "output_type": "stream",
     "text": [
      " 97%|█████████▋| 29/30 [00:03<00:00,  6.91it/s]"
     ]
    },
    {
     "name": "stdout",
     "output_type": "stream",
     "text": [
      "[MoviePy] Done.\n",
      "[MoviePy] >>>> Video ready: braking_system/experiments/exp3/ql_trial3eps_150.mp4 \n",
      "\n"
     ]
    },
    {
     "name": "stderr",
     "output_type": "stream",
     "text": [
      "\n"
     ]
    },
    {
     "name": "stdout",
     "output_type": "stream",
     "text": [
      "[MoviePy] >>>> Building video braking_system/experiments/exp3/ql_trial3eps_300.mp4\n",
      "[MoviePy] Writing video braking_system/experiments/exp3/ql_trial3eps_300.mp4\n"
     ]
    },
    {
     "name": "stderr",
     "output_type": "stream",
     "text": [
      " 97%|█████████▋| 29/30 [00:03<00:00,  6.63it/s]"
     ]
    },
    {
     "name": "stdout",
     "output_type": "stream",
     "text": [
      "[MoviePy] Done.\n",
      "[MoviePy] >>>> Video ready: braking_system/experiments/exp3/ql_trial3eps_300.mp4 \n",
      "\n"
     ]
    },
    {
     "name": "stderr",
     "output_type": "stream",
     "text": [
      "\n"
     ]
    },
    {
     "data": {
      "image/png": "[encoded data removed]",
      "text/plain": [
       "<matplotlib.figure.Figure at 0x113ccfcd0>"
      ]
     },
     "metadata": {},
     "output_type": "display_data"
    },
    {
     "data": {
      "image/png": "[encoded data removed]",
      "text/plain": [
       "<matplotlib.figure.Figure at 0x113ccfd90>"
      ]
     },
     "metadata": {},
     "output_type": "display_data"
    },
    {
     "data": {
      "image/png": "[encoded data removed]",
      "text/plain": [
       "<matplotlib.figure.Figure at 0x1130599d0>"
      ]
     },
     "metadata": {},
     "output_type": "display_data"
    },
    {
     "data": {
      "image/png": "[encoded data removed]",
      "text/plain": [
       "<matplotlib.figure.Figure at 0x1136bcd10>"
      ]
     },
     "metadata": {},
     "output_type": "display_data"
    }
   ],
   "source": [
    "fig_mpl, ax = plt.subplots(1,figsize=(5,3), facecolor='white')\n",
    "t = 0\n",
    "episode_id = 1\n",
    "ql = ag[8]\n",
    "def make_vid(fname):\n",
    "    fig_mpl, ax = plt.subplots(1,figsize=(5,3), facecolor='white')\n",
    "    xx = np.linspace(-1,140,200) # the x vector\n",
    "    ax.set_ylim(-1.5,2.5)\n",
    "    \n",
    "    animation =mpy.VideoClip(make_frame_mpl, duration=len(ql.episodes_values[episode_id])/4.0+3)\n",
    "    # animation.write_gif(\"sinc_mpl.gif\", fps=20)\n",
    "    animation.write_videofile(fname,fps=4)\n",
    "make_vid(\"braking_system/experiments/exp3/ql_trial3eps_1.mp4\")\n",
    "t = 0\n",
    "episode_id = 150\n",
    "ql = ag[8]\n",
    "make_vid(\"braking_system/experiments/exp3/ql_trial3eps_150.mp4\")\n",
    "t = 0\n",
    "episode_id = 300\n",
    "ql = ag[8]\n",
    "make_vid(\"braking_system/experiments/exp3/ql_trial3eps_300.mp4\")"
   ]
  },
  {
   "cell_type": "code",
   "execution_count": 14,
   "metadata": {
    "collapsed": true
   },
   "outputs": [],
   "source": [
    "def run_SARSA():\n",
    "    for index, agent in enumerate(sag):\n",
    "        agent.run(env[index])\n",
    "    get_graph(sag,epscount=300,fname='sarsa_exp3_2_graph.png')\n"
   ]
  },
  {
   "cell_type": "code",
   "execution_count": 15,
   "metadata": {
    "collapsed": true
   },
   "outputs": [],
   "source": [
    "trials = 10\n",
    "sampler = Sampler( ped_posx_low=45, ped_posx_high=105, ped_posy_low=45, ped_posy_high=105, ped_vel_mean=1, ped_vel_std=0.01, car_posx_mean=0.01, car_posx_std=0.01, car_posy_mean=1, car_posy_std=0.01, car_vel_mean=15, car_vel_std=5 )\n",
    "env = [CarBrakerEnv(sampler)]* trials\n",
    "sag = [SARSA(env[0],eps_cnt=300)]*(trials)    "
   ]
  },
  {
   "cell_type": "code",
   "execution_count": 16,
   "metadata": {
    "collapsed": false
   },
   "outputs": [
    {
     "data": {
      "image/png": "[encoded data removed]",
      "text/plain": [
       "<matplotlib.figure.Figure at 0x1137a5810>"
      ]
     },
     "metadata": {},
     "output_type": "display_data"
    }
   ],
   "source": [
    "run_SARSA()"
   ]
  },
  {
   "cell_type": "code",
   "execution_count": 17,
   "metadata": {
    "collapsed": false
   },
   "outputs": [
    {
     "name": "stdout",
     "output_type": "stream",
     "text": [
      "class State(tuple):\n",
      "    'State(ped_x, ped_y, pos_x, pos_y, vel)'\n",
      "\n",
      "    __slots__ = ()\n",
      "\n",
      "    _fields = ('ped_x', 'ped_y', 'pos_x', 'pos_y', 'vel')\n",
      "\n",
      "    def __new__(_cls, ped_x, ped_y, pos_x, pos_y, vel):\n",
      "        'Create new instance of State(ped_x, ped_y, pos_x, pos_y, vel)'\n",
      "        return _tuple.__new__(_cls, (ped_x, ped_y, pos_x, pos_y, vel))\n",
      "\n",
      "    @classmethod\n",
      "    def _make(cls, iterable, new=tuple.__new__, len=len):\n",
      "        'Make a new State object from a sequence or iterable'\n",
      "        result = new(cls, iterable)\n",
      "        if len(result) != 5:\n",
      "            raise TypeError('Expected 5 arguments, got %d' % len(result))\n",
      "        return result\n",
      "\n",
      "    def __repr__(self):\n",
      "        'Return a nicely formatted representation string'\n",
      "        return 'State(ped_x=%r, ped_y=%r, pos_x=%r, pos_y=%r, vel=%r)' % self\n",
      "\n",
      "    def _asdict(self):\n",
      "        'Return a new OrderedDict which maps field names to their values'\n",
      "        return OrderedDict(zip(self._fields, self))\n",
      "\n",
      "    def _replace(_self, **kwds):\n",
      "        'Return a new State object replacing specified fields with new values'\n",
      "        result = _self._make(map(kwds.pop, ('ped_x', 'ped_y', 'pos_x', 'pos_y', 'vel'), _self))\n",
      "        if kwds:\n",
      "            raise ValueError('Got unexpected field names: %r' % kwds.keys())\n",
      "        return result\n",
      "\n",
      "    def __getnewargs__(self):\n",
      "        'Return self as a plain tuple.  Used by copy and pickle.'\n",
      "        return tuple(self)\n",
      "\n",
      "    __dict__ = _property(_asdict)\n",
      "\n",
      "    def __getstate__(self):\n",
      "        'Exclude the OrderedDict from pickling'\n",
      "        pass\n",
      "\n",
      "    ped_x = _property(_itemgetter(0), doc='Alias for field number 0')\n",
      "\n",
      "    ped_y = _property(_itemgetter(1), doc='Alias for field number 1')\n",
      "\n",
      "    pos_x = _property(_itemgetter(2), doc='Alias for field number 2')\n",
      "\n",
      "    pos_y = _property(_itemgetter(3), doc='Alias for field number 3')\n",
      "\n",
      "    vel = _property(_itemgetter(4), doc='Alias for field number 4')\n",
      "\n",
      "\n"
     ]
    },
    {
     "data": {
      "image/png": "[encoded data removed]",
      "text/plain": [
       "<matplotlib.figure.Figure at 0x1029b0350>"
      ]
     },
     "metadata": {},
     "output_type": "display_data"
    }
   ],
   "source": [
    "get_graph(sag,epscount=300,fname='sarsa_exp3_2_graph.png')"
   ]
  },
  {
   "cell_type": "code",
   "execution_count": 18,
   "metadata": {
    "collapsed": false
   },
   "outputs": [
    {
     "name": "stdout",
     "output_type": "stream",
     "text": [
      "[MoviePy] >>>> Building video braking_system/experiments/exp3/sarsa3_eps_1.mp4\n",
      "[MoviePy] Writing video braking_system/experiments/exp3/sarsa3_eps_1.mp4\n"
     ]
    },
    {
     "name": "stderr",
     "output_type": "stream",
     "text": [
      " 96%|█████████▋| 26/27 [00:03<00:00,  7.07it/s]\n"
     ]
    },
    {
     "name": "stdout",
     "output_type": "stream",
     "text": [
      "[MoviePy] Done.\n",
      "[MoviePy] >>>> Video ready: braking_system/experiments/exp3/sarsa3_eps_1.mp4 \n",
      "\n",
      "[MoviePy] >>>> Building video braking_system/experiments/exp3/sarsa3_eps_200.mp4\n",
      "[MoviePy] Writing video braking_system/experiments/exp3/sarsa3_eps_200.mp4\n"
     ]
    },
    {
     "name": "stderr",
     "output_type": "stream",
     "text": [
      " 96%|█████████▋| 26/27 [00:03<00:00,  5.59it/s]"
     ]
    },
    {
     "name": "stdout",
     "output_type": "stream",
     "text": [
      "[MoviePy] Done.\n",
      "[MoviePy] >>>> Video ready: braking_system/experiments/exp3/sarsa3_eps_200.mp4 \n",
      "\n"
     ]
    },
    {
     "name": "stderr",
     "output_type": "stream",
     "text": [
      "\n"
     ]
    },
    {
     "name": "stdout",
     "output_type": "stream",
     "text": [
      "[MoviePy] >>>> Building video braking_system/experiments/exp3/sarsa3_eps_300.mp4\n",
      "[MoviePy] Writing video braking_system/experiments/exp3/sarsa3_eps_300.mp4\n"
     ]
    },
    {
     "name": "stderr",
     "output_type": "stream",
     "text": [
      " 96%|█████████▌| 25/26 [00:02<00:00,  8.36it/s]\n"
     ]
    },
    {
     "name": "stdout",
     "output_type": "stream",
     "text": [
      "[MoviePy] Done.\n",
      "[MoviePy] >>>> Video ready: braking_system/experiments/exp3/sarsa3_eps_300.mp4 \n",
      "\n"
     ]
    },
    {
     "data": {
      "image/png": "[encoded data removed]",
      "text/plain": [
       "<matplotlib.figure.Figure at 0x113f15a10>"
      ]
     },
     "metadata": {},
     "output_type": "display_data"
    },
    {
     "data": {
      "image/png": "[encoded data removed]",
      "text/plain": [
       "<matplotlib.figure.Figure at 0x113cc2cd0>"
      ]
     },
     "metadata": {},
     "output_type": "display_data"
    },
    {
     "data": {
      "image/png": "[encoded data removed]",
      "text/plain": [
       "<matplotlib.figure.Figure at 0x11347ed90>"
      ]
     },
     "metadata": {},
     "output_type": "display_data"
    }
   ],
   "source": [
    "t = 0\n",
    "episode_id = 1\n",
    "ql = sag[8]\n",
    "make_vid(\"braking_system/experiments/exp3/sarsa3_eps_1.mp4\")\n",
    "t = 0\n",
    "episode_id = 200\n",
    "ql = sag[8]\n",
    "make_vid(\"braking_system/experiments/exp3/sarsa3_eps_200.mp4\")\n",
    "t = 0\n",
    "episode_id = 300\n",
    "ql = sag[8]\n",
    "make_vid(\"braking_system/experiments/exp3/sarsa3_eps_300.mp4\")"
   ]
  },
  {
   "cell_type": "code",
   "execution_count": null,
   "metadata": {
    "collapsed": true
   },
   "outputs": [],
   "source": []
  },
  {
   "cell_type": "code",
   "execution_count": null,
   "metadata": {
    "collapsed": false
   },
   "outputs": [],
   "source": []
  },
  {
   "cell_type": "code",
   "execution_count": null,
   "metadata": {
    "collapsed": false
   },
   "outputs": [],
   "source": []
  }
 ],
 "metadata": {
  "anaconda-cloud": {},
  "kernelspec": {
   "display_name": "Python [Root]",
   "language": "python",
   "name": "Python [Root]"
  },
  "language_info": {
   "codemirror_mode": {
    "name": "ipython",
    "version": 2
   },
   "file_extension": ".py",
   "mimetype": "text/x-python",
   "name": "python",
   "nbconvert_exporter": "python",
   "pygments_lexer": "ipython2",
   "version": "2.7.12"
  }
 },
 "nbformat": 4,
 "nbformat_minor": 0
}
